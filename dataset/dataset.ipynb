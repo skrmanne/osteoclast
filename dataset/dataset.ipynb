{
 "cells": [
  {
   "cell_type": "code",
   "execution_count": 2,
   "id": "2db4d9d9-48dd-4510-afa5-aa5464ec48ce",
   "metadata": {},
   "outputs": [],
   "source": [
    "from PIL import Image, ImageDraw\n",
    "import cv2\n",
    "import numpy as np\n",
    "import os, sys\n",
    "import csv\n",
    "import math"
   ]
  },
  {
   "cell_type": "code",
   "execution_count": 22,
   "id": "f1055209-9868-4626-8130-7eb936cedf07",
   "metadata": {},
   "outputs": [],
   "source": [
    "#declare img and csv files\n",
    "img_file = \"cellwell.png\"\n",
    "csv_file = \"ROIPixels_2d7.csv\""
   ]
  },
  {
   "cell_type": "code",
   "execution_count": 23,
   "id": "4b9a93b3-eddd-4204-974c-32cf85652a7f",
   "metadata": {},
   "outputs": [],
   "source": [
    "# Read image and csv data\n",
    "img = Image.open(img_file)\n",
    "bbf = csv.reader(open(csv_file, newline=''), delimiter=',')\n",
    "\n",
    "bbs = []\n",
    "for row in bbf:\n",
    "    if row[1] == \"bb_x\":\n",
    "        continue\n",
    "    bbs.append([int(row[1]), int(row[2]), int(row[3]), int(row[4])])"
   ]
  },
  {
   "cell_type": "code",
   "execution_count": 32,
   "id": "191e3753",
   "metadata": {},
   "outputs": [],
   "source": [
    "# Create instance segmentation mask from the coords\n",
    "bbf = csv.reader(open(csv_file, newline=''), delimiter=',')\n",
    "# create a segmentation mask - instance segmentation\n",
    "mask = Image.new('RGB', img.size, 0)\n",
    "draw = ImageDraw.Draw(mask)\n",
    "\n",
    "for row in bbf:\n",
    "    if row[1] == \"bb_x\":\n",
    "        continue\n",
    "\n",
    "    # get a different color for each cluster for all the rows\n",
    "    color = (int(row[0])*20%255, int(row[0])*50%255, int(row[0])*100%255)\n",
    "\n",
    "    # gather all the (x,y) points from row[5:] and mark them with a single color\n",
    "    points = [int(row[i]) for i in range(5, len(row))]\n",
    "    for i in range(0, len(points), 2):\n",
    "        #print(points[i], points[i+1])\n",
    "        draw.point((points[i], points[i+1]), fill=color)\n",
    "\n",
    "mask.save(\"instance_seg.png\")\n"
   ]
  },
  {
   "cell_type": "code",
   "execution_count": 24,
   "id": "7a63738b-4cec-4fd4-9bb1-4c26d93af3fb",
   "metadata": {},
   "outputs": [],
   "source": [
    "starts = {}\n",
    "def slide(img, bbs, size):\n",
    "    for y0 in range(0, img.size[1], size//2):\n",
    "        for x0 in range(0, img.size[0], size//2):\n",
    "            x1, y1 = x0+size, y0+size\n",
    "            if x1 >= img.size[0]:\n",
    "                x0, x1 = img.size[0]-size, img.size[0]-1\n",
    "            if y1 >= img.size[1]:\n",
    "                y0, y1 = img.size[1]-size, img.size[1]-1\n",
    "            # save crops\n",
    "            img_crop = img.crop((x0,y0,x1,y1))\n",
    "            yc=str(math.ceil(y0/(size//2)))\n",
    "            xc=str(math.ceil(x0/(size//2)))\n",
    "            img_crop.save(\"img_{yc}_{xc}.png\".format(yc=yc, xc=xc))\n",
    "            \n",
    "            cur_bbs = []\n",
    "            for bb in bbs:\n",
    "                if bb[0] >= x0 and bb[0] < x1 and bb[1] >= y0 and bb[1] < y1:\n",
    "                    w = bb[2] if bb[2] < size else x1-x0\n",
    "                    h = bb[3] if bb[3] < size else y1-y0\n",
    "                    cur_bbs.append([bb[0]-x0, bb[1]-y0, w, h])\n",
    "            with open(\"bbs_{yc}_{xc}.csv\".format(yc=yc, xc=xc), 'w', newline='') as f:\n",
    "                writer = csv.writer(f)\n",
    "                writer.writerows(cur_bbs)"
   ]
  },
  {
   "cell_type": "code",
   "execution_count": 25,
   "id": "5fd24b68-a192-418c-8e40-939a2e4311a2",
   "metadata": {},
   "outputs": [],
   "source": [
    "slide(img, bbs, 512)"
   ]
  },
  {
   "cell_type": "code",
   "execution_count": 32,
   "id": "35612ee0-977d-41dc-84ec-966781662900",
   "metadata": {},
   "outputs": [],
   "source": [
    "# check random image and corresponding bbox\n",
    "crop, newbb = Image.open(\"img_12_2.png\"), csv.reader(open(\"bbs_12_2.csv\", newline=''), delimiter=',')\n",
    "crop_bbs = []\n",
    "for row in newbb:\n",
    "    crop_bbs.append([int(row[0]), int(row[1]), int(row[2]), int(row[3])])\n",
    "\n",
    "temp = crop.copy()\n",
    "draw_crop = ImageDraw.Draw(temp)\n",
    "\n",
    "for cbb in crop_bbs:\n",
    "    draw_crop.rectangle([cbb[0], cbb[1], cbb[0]+cbb[2], cbb[1]+cbb[3]], fill=None, outline=\"red\")\n",
    "temp.show()"
   ]
  },
  {
   "cell_type": "code",
   "execution_count": null,
   "id": "8fa4dcf7-70ac-46ef-a708-029ea5088d98",
   "metadata": {},
   "outputs": [],
   "source": []
  }
 ],
 "metadata": {
  "kernelspec": {
   "display_name": "Python 3 (ipykernel)",
   "language": "python",
   "name": "python3"
  },
  "language_info": {
   "codemirror_mode": {
    "name": "ipython",
    "version": 3
   },
   "file_extension": ".py",
   "mimetype": "text/x-python",
   "name": "python",
   "nbconvert_exporter": "python",
   "pygments_lexer": "ipython3",
   "version": "3.11.5"
  }
 },
 "nbformat": 4,
 "nbformat_minor": 5
}
